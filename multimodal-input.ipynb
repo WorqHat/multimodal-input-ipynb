{
 "cells": [
  {
   "cell_type": "markdown",
   "metadata": {},
   "source": [
    "Copyright 2024 WorqHat."
   ]
  },
  {
   "cell_type": "code",
   "execution_count": 6,
   "metadata": {},
   "outputs": [],
   "source": [
    "#@title Licensed under the Apache License, Version 2.0 (the \"License\");\n",
    "# you may not use this file except in compliance with the License.\n",
    "# You may obtain a copy of the License at\n",
    "#\n",
    "# https://www.apache.org/licenses/LICENSE-2.0\n",
    "#\n",
    "# Unless required by applicable law or agreed to in writing, software\n",
    "# distributed under the License is distributed on an \"AS IS\" BASIS,\n",
    "# WITHOUT WARRANTIES OR CONDITIONS OF ANY KIND, either express or implied.\n",
    "# See the License for the specific language governing permissions and\n",
    "# limitations under the License."
   ]
  },
  {
   "cell_type": "markdown",
   "metadata": {},
   "source": [
    "This notebook provides a quick example of how to work with audio, images, videos and text files in the same prompt. You'll use the WorqHat API to help you generate ideas for your next blog post, based on voice memos you recorded on your phone or images you've taken, and previous articles you've written."
   ]
  },
  {
   "cell_type": "markdown",
   "metadata": {},
   "source": [
    "## Setup WorqHat API Key"
   ]
  },
  {
   "cell_type": "code",
   "execution_count": 7,
   "metadata": {},
   "outputs": [],
   "source": [
    "WORQHAT_API_KEY = \"sk-caf41a358afe456286cd91f12c93199c\""
   ]
  },
  {
   "cell_type": "code",
   "execution_count": 8,
   "metadata": {},
   "outputs": [],
   "source": [
    "# Import necessary libraries\n",
    "import os\n",
    "import requests\n",
    "from requests.structures import CaseInsensitiveDict\n",
    "\n",
    "import json\n",
    "import base64\n",
    "import time"
   ]
  },
  {
   "cell_type": "markdown",
   "metadata": {},
   "source": [
    "Now we will write the function to fetch the content from WorqHat API. We will make a POST request to the API with the files and the data.\n",
    "The data is the question we want to ask the AI. In our case, its the blog post we want to write about. Past blog posts are the training data. And any kind of audio, image, video or text files are the files we want to use to generate the content."
   ]
  },
  {
   "cell_type": "code",
   "execution_count": 9,
   "metadata": {},
   "outputs": [
    {
     "name": "stdout",
     "output_type": "stream",
     "text": [
      "Response received: {\"content\":\"Alex: The image is a pixel art drawing of Pikachu, a popular character from the Pokemon franchise. The drawing is done on graph paper, with each square representing one pixel. Pikachu is drawn in yellow with black outlines and red cheeks. The word \\\"Pika\\\" is written in red above and below Pikachu. The overall drawing is a simple and cute representation of the iconic Pokemon character. \\n\",\"processingTime\":5464.125672,\"processingId\":\"8889242b-2219-457d-adad-7143ef221038\",\"processingCount\":387,\"conversation_id\":\"conv_1724683431796\",\"model\":\"aicon-v4-nano-160824\"}\n"
     ]
    }
   ],
   "source": [
    "# The function takes the files as input and returns the response from the WorqHat API.\n",
    "\n",
    "def fetch_worqhat_content(files):\n",
    "    url = \"https://api.worqhat.com/api/ai/content/v4\"\n",
    "\n",
    "    headers = CaseInsensitiveDict()\n",
    "    headers['Authorization'] = f\"Bearer {WORQHAT_API_KEY}\"\n",
    "\n",
    "    data = {\n",
    "        'question': 'explain the image in detail',\n",
    "        'training_data': 'You are alex and you are one of the best Tour Guides. answer everything while starting with your name',\n",
    "        'model': 'aicon-v4-nano-160824',\n",
    "    }\n",
    "\n",
    "    response = requests.post(url, headers=headers, files=files, data=data)\n",
    "\n",
    "    if response.status_code == 200:\n",
    "        print(\"Response received:\", json.dumps(response.json(), indent=4))\n",
    "    else:\n",
    "        print(\"Error:\", response.status_code, response.text)\n",
    "\n",
    "# Example usage\n",
    "# files = [('files', open('file1.jpg', 'rb')), ('files', open('file2.mp3', 'rb'))]  # Example files\n",
    "files = [('files', ('image.jpeg', open('image.jpeg', 'rb'), 'image/jpeg'))]\n",
    "fetch_worqhat_content(files)"
   ]
  }
 ],
 "metadata": {
  "kernelspec": {
   "display_name": "Python 3",
   "language": "python",
   "name": "python3"
  },
  "language_info": {
   "codemirror_mode": {
    "name": "ipython",
    "version": 3
   },
   "file_extension": ".py",
   "mimetype": "text/x-python",
   "name": "python",
   "nbconvert_exporter": "python",
   "pygments_lexer": "ipython3",
   "version": "3.11.4"
  }
 },
 "nbformat": 4,
 "nbformat_minor": 2
}
