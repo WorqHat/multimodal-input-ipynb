{
 "cells": [
  {
   "cell_type": "markdown",
   "metadata": {},
   "source": [
    "Copyright 2024 WorqHat."
   ]
  },
  {
   "cell_type": "code",
   "execution_count": 10,
   "metadata": {},
   "outputs": [],
   "source": [
    "#@title Licensed under the Apache License, Version 2.0 (the \"License\");\n",
    "# you may not use this file except in compliance with the License.\n",
    "# You may obtain a copy of the License at\n",
    "#\n",
    "# https://www.apache.org/licenses/LICENSE-2.0\n",
    "#\n",
    "# Unless required by applicable law or agreed to in writing, software\n",
    "# distributed under the License is distributed on an \"AS IS\" BASIS,\n",
    "# WITHOUT WARRANTIES OR CONDITIONS OF ANY KIND, either express or implied.\n",
    "# See the License for the specific language governing permissions and\n",
    "# limitations under the License."
   ]
  },
  {
   "cell_type": "markdown",
   "metadata": {},
   "source": [
    "This notebook showcases the powerful capabilities of the WorqHat API for multimodal content generation. By leveraging audio, images, videos, and text files together in a single prompt, you can unlock a world of possibilities for creating engaging and informative blog posts.\n",
    "\n",
    "Imagine having a treasure trove of inspiration at your fingertips - voice memos you've recorded on the go, capturing your most brilliant ideas; images you've snapped that perfectly illustrate your points; and even relevant snippets from your previous articles. With the WorqHat API, you can seamlessly integrate all these elements to craft a truly immersive and compelling blog post.\n",
    "\n",
    "But the potential doesn't stop there. You can even extract features from the web to further enrich your content. Perhaps you want to include the latest statistics or a trending quote related to your topic. The WorqHat API can intelligently gather and incorporate this information, ensuring your blog post is always up-to-date and relevant.\n",
    "\n",
    "And for those seeking even more innovation, the possibilities are endless. Maybe you want to generate personalized content based on each reader's preferences, or create interactive elements that allow readers to explore your ideas in a hands-on way. With the WorqHat API's advanced capabilities, you can push the boundaries of what's possible in blog post creation.\n",
    "\n",
    "So whether you're a seasoned blogger looking to take your content to the next level, or just starting out and in need of some creative inspiration, this notebook will guide you through the process of leveraging the WorqHat API to generate truly remarkable blog posts. Get ready to unleash your creativity like never before!"
   ]
  },
  {
   "cell_type": "markdown",
   "metadata": {},
   "source": [
    "## Setup WorqHat API Key"
   ]
  },
  {
   "cell_type": "code",
   "execution_count": 13,
   "metadata": {},
   "outputs": [],
   "source": [
    "WORQHAT_API_KEY = \"sk-caf41a358afe456286cd91f12c93199c\""
   ]
  },
  {
   "cell_type": "code",
   "execution_count": 14,
   "metadata": {},
   "outputs": [],
   "source": [
    "# Now we will start working on the code."
   ]
  },
  {
   "cell_type": "code",
   "execution_count": 15,
   "metadata": {},
   "outputs": [],
   "source": [
    "# Import necessary libraries\n",
    "import os\n",
    "import requests\n",
    "from requests.structures import CaseInsensitiveDict\n",
    "import json\n",
    "import base64\n",
    "import time"
   ]
  },
  {
   "cell_type": "code",
   "execution_count": 16,
   "metadata": {},
   "outputs": [],
   "source": [
    "# Fetch data from the web or a Youtube video\n",
    "\n",
    "# Step 1: Ask the user for the source they want to use\n",
    "source = input(\"Enter the source you want to use (e.g., URL, YouTube video link, or leave blank to skip): \")"
   ]
  },
  {
   "cell_type": "code",
   "execution_count": 21,
   "metadata": {},
   "outputs": [
    {
     "name": "stdout",
     "output_type": "stream",
     "text": [
      "Response received: {\n",
      "    \"content\": \"This YouTube video discusses the situation of two astronauts, Sunny Williams and Butch Wilmore, who are stuck on the International Space Station (ISS) much longer than planned due to safety concerns with their Boeing Starliner spacecraft. Here's a breakdown:\\n\\n* **The Mission:** Sunny and Butch were supposed to spend 8 days on the ISS, testing the Starliner for future astronaut transportation.\\n* **The Problem:** The Starliner experienced multiple helium leaks and thruster malfunctions, making its safety for return questionable.\\n* **The Dilemma:** Boeing and NASA disagreed on the severity of the issue and the Starliner's reliability. \\n* **The Solution:**  NASA deemed the Starliner unsafe and decided to bring the astronauts back on a SpaceX Dragon spacecraft, delaying their return by approximately 8 months.\\n* **The Impact:** This highlights Boeing's struggles in the commercial space industry, especially compared to SpaceX's successes. The video also touches upon the challenges of prolonged space stays and the astronaut's well-being. \\n\\nThe video concludes by promoting Brilliant.org as a resource for learning about space travel and related concepts.\\n\",\n",
      "    \"processingTime\": 29596.083856,\n",
      "    \"processingId\": \"f359cc28-d0f3-45be-9604-36b00cfa2218\",\n",
      "    \"processingCount\": 2962,\n",
      "    \"conversation_id\": \"conv_1724688523491\",\n",
      "    \"model\": \"aicon-v4-alpha-160824\"\n",
      "}\n"
     ]
    }
   ],
   "source": [
    "# Step 2: If the source is provided, fetch the data and pass it to the function\n",
    "def fetch_web_content(source):\n",
    "    url = \"https://api.worqhat.com/api/ai/content/v4\"\n",
    "\n",
    "    headers = CaseInsensitiveDict()\n",
    "    headers['Authorization'] = f\"Bearer {WORQHAT_API_KEY}\"\n",
    "    headers['Content-Type'] = 'application/json'  # Ensure the content type is set to application/json\n",
    "\n",
    "    payload = json.dumps({\n",
    "        'question': f\"Get me a brief summary of the following source: {source}\",\n",
    "        'model': 'aicon-v4-alpha-160824',\n",
    "    })\n",
    "\n",
    "    response = requests.request(\"POST\", url, headers=headers, data=payload)\n",
    "\n",
    "    if response.status_code == 200:\n",
    "        print(\"Response received:\", json.dumps(response.json(), indent=4))\n",
    "    else:\n",
    "        print(\"Error:\", response.status_code, response.text)\n",
    "\n",
    "if source:\n",
    "    # Fetch data from the web or a YouTube video based on the provided source\n",
    "    fetch_web_content(source)\n",
    "else:\n",
    "    print(\"No source provided. Skipping data fetching.\")"
   ]
  },
  {
   "cell_type": "code",
   "execution_count": null,
   "metadata": {},
   "outputs": [],
   "source": []
  },
  {
   "cell_type": "code",
   "execution_count": null,
   "metadata": {},
   "outputs": [],
   "source": [
    "# Upload PDF Files"
   ]
  },
  {
   "cell_type": "code",
   "execution_count": null,
   "metadata": {},
   "outputs": [],
   "source": [
    "# Upload Image Files"
   ]
  },
  {
   "cell_type": "code",
   "execution_count": null,
   "metadata": {},
   "outputs": [],
   "source": [
    "# Upload Audio Files"
   ]
  },
  {
   "cell_type": "code",
   "execution_count": null,
   "metadata": {},
   "outputs": [],
   "source": [
    "# Add past blog posts in the form of array of strings"
   ]
  },
  {
   "cell_type": "markdown",
   "metadata": {},
   "source": [
    "Now we will write the function to fetch the content from WorqHat API. We will make a POST request to the API with the files and the data.\n",
    "The data is the question we want to ask the AI. In our case, its the blog post we want to write about. Past blog posts are the training data. And any kind of audio, image, video or text files are the files we want to use to generate the content."
   ]
  },
  {
   "cell_type": "code",
   "execution_count": 9,
   "metadata": {},
   "outputs": [
    {
     "name": "stdout",
     "output_type": "stream",
     "text": [
      "Response received: {\"content\":\"Alex: The image is a pixel art drawing of Pikachu, a popular character from the Pokemon franchise. The drawing is done on graph paper, with each square representing one pixel. Pikachu is drawn in yellow with black outlines and red cheeks. The word \\\"Pika\\\" is written in red above and below Pikachu. The overall drawing is a simple and cute representation of the iconic Pokemon character. \\n\",\"processingTime\":5464.125672,\"processingId\":\"8889242b-2219-457d-adad-7143ef221038\",\"processingCount\":387,\"conversation_id\":\"conv_1724683431796\",\"model\":\"aicon-v4-nano-160824\"}\n"
     ]
    }
   ],
   "source": [
    "# The function takes the files as input and returns the response from the WorqHat API.\n",
    "\n",
    "def fetch_worqhat_ai_content(files):\n",
    "    url = \"https://api.worqhat.com/api/ai/content/v4\"\n",
    "\n",
    "    headers = CaseInsensitiveDict()\n",
    "    headers['Authorization'] = f\"Bearer {WORQHAT_API_KEY}\"\n",
    "\n",
    "\n",
    "    data = {\n",
    "        'question': 'explain the image in detail',\n",
    "        'training_data': 'You are alex and you are one of the best Tour Guides. answer everything while starting with your name',\n",
    "        'model': 'aicon-v4-nano-160824',\n",
    "    }\n",
    "\n",
    "    response = requests.post(url, headers=headers, files=files, data=data)\n",
    "\n",
    "    if response.status_code == 200:\n",
    "        print(\"Response received:\", json.dumps(response.json(), indent=4))\n",
    "    else:\n",
    "        print(\"Error:\", response.status_code, response.text)\n",
    "\n",
    "# Example usage\n",
    "# files = [('files', open('file1.jpg', 'rb')), ('files', open('file2.mp3', 'rb'))]  # Example files\n",
    "files = [('files', ('image.jpeg', open('image.jpeg', 'rb'), 'image/jpeg'))]\n",
    "fetch_worqhat_ai_content(files)"
   ]
  }
 ],
 "metadata": {
  "kernelspec": {
   "display_name": "Python 3",
   "language": "python",
   "name": "python3"
  },
  "language_info": {
   "codemirror_mode": {
    "name": "ipython",
    "version": 3
   },
   "file_extension": ".py",
   "mimetype": "text/x-python",
   "name": "python",
   "nbconvert_exporter": "python",
   "pygments_lexer": "ipython3",
   "version": "3.11.4"
  }
 },
 "nbformat": 4,
 "nbformat_minor": 2
}
